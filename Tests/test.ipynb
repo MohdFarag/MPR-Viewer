{
 "cells": [
  {
   "cell_type": "code",
   "execution_count": 2,
   "metadata": {},
   "outputs": [],
   "source": [
    "import vtk"
   ]
  },
  {
   "cell_type": "code",
   "execution_count": 3,
   "metadata": {},
   "outputs": [],
   "source": [
    "# create a rendering window and renderer\n",
    "renderer = vtk.vtkRenderer()\n",
    "renderer.SetBackground(0.5, 1.0, 0.5)\n",
    "\n",
    "renderWindow = vtk.vtkRenderWindow()\n",
    "renderWindow.SetSize(500, 500)\n",
    "renderWindow.AddRenderer(renderer)\n",
    "renderWindow.Render()"
   ]
  },
  {
   "cell_type": "code",
   "execution_count": 4,
   "metadata": {},
   "outputs": [],
   "source": [
    "# create a data source\n",
    "Source = vtk.vtkSphereSource()\n",
    "cube = vtk.vtkCubeSource()\n",
    "\n",
    "# mapper\n",
    "cubeMapper = vtk.vtkPolyDataMapper()\n",
    "cubeMapper.SetInputConnection(cube.GetOutputPort())\n",
    "\n",
    "# actor\n",
    "cubeActor = vtk.vtkActor()\n",
    "cubeActor.SetMapper(cubeMapper)\n",
    "cubeActor.GetProperty().SetColor(1, 0, 0)\n",
    "\n",
    "# create a rendering window and renderer\n",
    "renderer = vtk.vtkRenderer()\n",
    "renderer.SetBackground(0.5, 0.5, 0.5)\n",
    "renderer.AddActor(cubeActor)\n",
    "\n",
    "renderWindow = vtk.vtkRenderWindow()\n",
    "renderWindow.SetSize(500, 500)\n",
    "renderWindow.AddRenderer(renderer)\n",
    "renderWindow.Render()\n",
    "\n",
    "# create and enable a renderWindowInteractor\n",
    "iren = vtk.vtkRenderWindowInteractor()\n",
    "iren.SetRenderWindow(renderWindow)\n",
    "iren.Start()"
   ]
  }
 ],
 "metadata": {
  "kernelspec": {
   "display_name": "Python 3",
   "language": "python",
   "name": "python3"
  },
  "language_info": {
   "codemirror_mode": {
    "name": "ipython",
    "version": 3
   },
   "file_extension": ".py",
   "mimetype": "text/x-python",
   "name": "python",
   "nbconvert_exporter": "python",
   "pygments_lexer": "ipython3",
   "version": "3.10.7"
  },
  "orig_nbformat": 4
 },
 "nbformat": 4,
 "nbformat_minor": 2
}
